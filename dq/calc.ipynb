{
 "cells": [
  {
   "cell_type": "markdown",
   "metadata": {},
   "source": [
    "# Determination of Deliquescence"
   ]
  },
  {
   "cell_type": "markdown",
   "metadata": {},
   "source": [
    "## Initialize Libraries"
   ]
  },
  {
   "cell_type": "code",
   "execution_count": 14,
   "metadata": {},
   "outputs": [
    {
     "name": "stdout",
     "output_type": "stream",
     "text": [
      "Defaulting to user installation because normal site-packages is not writeable\n",
      "Requirement already satisfied: ipywidgets in /Users/dylan/Library/Python/3.9/lib/python/site-packages (8.1.7)\n",
      "Requirement already satisfied: numpy in /Users/dylan/Library/Python/3.9/lib/python/site-packages (1.26.4)\n",
      "Requirement already satisfied: matplotlib in /Users/dylan/Library/Python/3.9/lib/python/site-packages (3.9.4)\n",
      "Requirement already satisfied: mplcursors in /Users/dylan/Library/Python/3.9/lib/python/site-packages (0.6)\n",
      "Requirement already satisfied: comm>=0.1.3 in /Users/dylan/Library/Python/3.9/lib/python/site-packages (from ipywidgets) (0.2.2)\n",
      "Requirement already satisfied: ipython>=6.1.0 in /Users/dylan/Library/Python/3.9/lib/python/site-packages (from ipywidgets) (8.18.1)\n",
      "Requirement already satisfied: traitlets>=4.3.1 in /Users/dylan/Library/Python/3.9/lib/python/site-packages (from ipywidgets) (5.14.3)\n",
      "Requirement already satisfied: widgetsnbextension~=4.0.14 in /Users/dylan/Library/Python/3.9/lib/python/site-packages (from ipywidgets) (4.0.14)\n",
      "Requirement already satisfied: jupyterlab_widgets~=3.0.15 in /Users/dylan/Library/Python/3.9/lib/python/site-packages (from ipywidgets) (3.0.15)\n",
      "Requirement already satisfied: contourpy>=1.0.1 in /Users/dylan/Library/Python/3.9/lib/python/site-packages (from matplotlib) (1.3.0)\n",
      "Requirement already satisfied: cycler>=0.10 in /Users/dylan/Library/Python/3.9/lib/python/site-packages (from matplotlib) (0.12.1)\n",
      "Requirement already satisfied: fonttools>=4.22.0 in /Users/dylan/Library/Python/3.9/lib/python/site-packages (from matplotlib) (4.58.2)\n",
      "Requirement already satisfied: kiwisolver>=1.3.1 in /Users/dylan/Library/Python/3.9/lib/python/site-packages (from matplotlib) (1.4.7)\n",
      "Requirement already satisfied: packaging>=20.0 in /Users/dylan/Library/Python/3.9/lib/python/site-packages (from matplotlib) (24.2)\n",
      "Requirement already satisfied: pillow>=8 in /Users/dylan/Library/Python/3.9/lib/python/site-packages (from matplotlib) (11.2.1)\n",
      "Requirement already satisfied: pyparsing>=2.3.1 in /Users/dylan/Library/Python/3.9/lib/python/site-packages (from matplotlib) (3.2.3)\n",
      "Requirement already satisfied: python-dateutil>=2.7 in /Users/dylan/Library/Python/3.9/lib/python/site-packages (from matplotlib) (2.9.0.post0)\n",
      "Requirement already satisfied: importlib-resources>=3.2.0 in /Users/dylan/Library/Python/3.9/lib/python/site-packages (from matplotlib) (6.5.2)\n",
      "Requirement already satisfied: zipp>=3.1.0 in /Users/dylan/Library/Python/3.9/lib/python/site-packages (from importlib-resources>=3.2.0->matplotlib) (3.21.0)\n",
      "Requirement already satisfied: decorator in /Users/dylan/Library/Python/3.9/lib/python/site-packages (from ipython>=6.1.0->ipywidgets) (5.2.1)\n",
      "Requirement already satisfied: jedi>=0.16 in /Users/dylan/Library/Python/3.9/lib/python/site-packages (from ipython>=6.1.0->ipywidgets) (0.19.2)\n",
      "Requirement already satisfied: matplotlib-inline in /Users/dylan/Library/Python/3.9/lib/python/site-packages (from ipython>=6.1.0->ipywidgets) (0.1.7)\n",
      "Requirement already satisfied: prompt-toolkit<3.1.0,>=3.0.41 in /Users/dylan/Library/Python/3.9/lib/python/site-packages (from ipython>=6.1.0->ipywidgets) (3.0.51)\n",
      "Requirement already satisfied: pygments>=2.4.0 in /Users/dylan/Library/Python/3.9/lib/python/site-packages (from ipython>=6.1.0->ipywidgets) (2.19.1)\n",
      "Requirement already satisfied: stack-data in /Users/dylan/Library/Python/3.9/lib/python/site-packages (from ipython>=6.1.0->ipywidgets) (0.6.3)\n",
      "Requirement already satisfied: typing-extensions in /Users/dylan/Library/Python/3.9/lib/python/site-packages (from ipython>=6.1.0->ipywidgets) (4.13.2)\n",
      "Requirement already satisfied: exceptiongroup in /Users/dylan/Library/Python/3.9/lib/python/site-packages (from ipython>=6.1.0->ipywidgets) (1.3.0)\n",
      "Requirement already satisfied: pexpect>4.3 in /Users/dylan/Library/Python/3.9/lib/python/site-packages (from ipython>=6.1.0->ipywidgets) (4.9.0)\n",
      "Requirement already satisfied: wcwidth in /Users/dylan/Library/Python/3.9/lib/python/site-packages (from prompt-toolkit<3.1.0,>=3.0.41->ipython>=6.1.0->ipywidgets) (0.2.13)\n",
      "Requirement already satisfied: parso<0.9.0,>=0.8.4 in /Users/dylan/Library/Python/3.9/lib/python/site-packages (from jedi>=0.16->ipython>=6.1.0->ipywidgets) (0.8.4)\n",
      "Requirement already satisfied: ptyprocess>=0.5 in /Users/dylan/Library/Python/3.9/lib/python/site-packages (from pexpect>4.3->ipython>=6.1.0->ipywidgets) (0.7.0)\n",
      "Requirement already satisfied: six>=1.5 in /Library/Developer/CommandLineTools/Library/Frameworks/Python3.framework/Versions/3.9/lib/python3.9/site-packages (from python-dateutil>=2.7->matplotlib) (1.15.0)\n",
      "Requirement already satisfied: executing>=1.2.0 in /Users/dylan/Library/Python/3.9/lib/python/site-packages (from stack-data->ipython>=6.1.0->ipywidgets) (2.2.0)\n",
      "Requirement already satisfied: asttokens>=2.1.0 in /Users/dylan/Library/Python/3.9/lib/python/site-packages (from stack-data->ipython>=6.1.0->ipywidgets) (3.0.0)\n",
      "Requirement already satisfied: pure-eval in /Users/dylan/Library/Python/3.9/lib/python/site-packages (from stack-data->ipython>=6.1.0->ipywidgets) (0.2.3)\n",
      "\n",
      "\u001b[1m[\u001b[0m\u001b[34;49mnotice\u001b[0m\u001b[1;39;49m]\u001b[0m\u001b[39;49m A new release of pip is available: \u001b[0m\u001b[31;49m25.1.1\u001b[0m\u001b[39;49m -> \u001b[0m\u001b[32;49m25.2\u001b[0m\n",
      "\u001b[1m[\u001b[0m\u001b[34;49mnotice\u001b[0m\u001b[1;39;49m]\u001b[0m\u001b[39;49m To update, run: \u001b[0m\u001b[32;49m/Library/Developer/CommandLineTools/usr/bin/python3 -m pip install --upgrade pip\u001b[0m\n",
      "Note: you may need to restart the kernel to use updated packages.\n"
     ]
    }
   ],
   "source": [
    "%matplotlib inline\n",
    "%pip install ipywidgets numpy matplotlib mplcursors"
   ]
  },
  {
   "cell_type": "markdown",
   "metadata": {},
   "source": [
    "## Temperature, Vapor Pressure, and Activity Coefficient Relationship"
   ]
  },
  {
   "cell_type": "code",
   "execution_count": 2,
   "metadata": {},
   "outputs": [
    {
     "data": {
      "application/vnd.jupyter.widget-view+json": {
       "model_id": "953ed701448146d9a7efa96cd9e98b17",
       "version_major": 2,
       "version_minor": 0
      },
      "text/plain": [
       "interactive(children=(FloatSlider(value=90.0, description='Fixture Temp (°C)', max=105.0, min=30.0, step=1.0),…"
      ]
     },
     "metadata": {},
     "output_type": "display_data"
    },
    {
     "data": {
      "text/plain": [
       "<function __main__.interactive_plot(T_fixture=90.0, a_w=0.25)>"
      ]
     },
     "execution_count": 2,
     "metadata": {},
     "output_type": "execute_result"
    }
   ],
   "source": [
    "import numpy as np\n",
    "import matplotlib.pyplot as plt\n",
    "from ipywidgets import interact, FloatSlider\n",
    "\n",
    "# Antoine constants for water (valid 1–100 °C)\n",
    "A = 8.07131\n",
    "B = 1730.63\n",
    "C = 233.426\n",
    "\n",
    "# Calculate saturation vapor pressure of water at temperature T (°C) in mmHg\n",
    "\n",
    "\n",
    "def vapor_pressure(T_celsius):\n",
    "    return 10 ** (A - (B / (C + T_celsius)))\n",
    "\n",
    "# Compute minimum bubbler temperature given fixture temperature and water activity\n",
    "\n",
    "\n",
    "def compute_bubbler_temp(T_fixture, a_w):\n",
    "    P_required = a_w * vapor_pressure(T_fixture)\n",
    "    # Search for temperature where vapor pressure >= required\n",
    "    for T_bubbler in np.linspace(0, 100, 1000):\n",
    "        if vapor_pressure(T_bubbler) >= P_required:\n",
    "            return T_bubbler\n",
    "    return np.nan\n",
    "\n",
    "# Main interactive plot function\n",
    "\n",
    "\n",
    "def interactive_plot(T_fixture=90.0, a_w=0.25):\n",
    "    T_bubbler = compute_bubbler_temp(T_fixture, a_w)\n",
    "    print(f\"Fixture Temperature: {T_fixture:.1f} °C\")\n",
    "    print(f\"Water Activity (a_w): {a_w:.2f}\")\n",
    "    print(f\"→ Minimum Bubbler Temperature: {T_bubbler:.2f} °C (at 100% RH)\")\n",
    "\n",
    "    # Plot vapor pressure curve and thresholds\n",
    "    T_range = np.linspace(0, 100, 500)\n",
    "    P_curve = vapor_pressure(T_range)\n",
    "    P_required = a_w * vapor_pressure(T_fixture)\n",
    "\n",
    "    plt.figure(figsize=(8, 5))\n",
    "    plt.plot(T_range, P_curve, label='Vapor Pressure of Water (mmHg)')\n",
    "    plt.axhline(P_required, color='red', linestyle='--',\n",
    "                label=f'Required Vapor Pressure = {P_required:.1f} mmHg')\n",
    "    plt.axvline(T_bubbler, color='green', linestyle='--',\n",
    "                label=f'Min Bubbler Temp = {T_bubbler:.1f} °C')\n",
    "    plt.xlabel('Temperature (°C)')\n",
    "    plt.ylabel('Saturation Vapor Pressure (mmHg)')\n",
    "    plt.title('Required vs. Actual Vapor Pressure for Deliquescence')\n",
    "    plt.grid(True)\n",
    "    plt.legend()\n",
    "    plt.tight_layout()\n",
    "    plt.show()\n",
    "\n",
    "\n",
    "# Create interactive sliders\n",
    "interact(\n",
    "    interactive_plot,\n",
    "    T_fixture=FloatSlider(value=90, min=30, max=105, step=1,\n",
    "                          description='Fixture Temp (°C)'),\n",
    "    a_w=FloatSlider(value=0.25, min=0.05, max=1,\n",
    "                    step=0.01, description='Water Activity')\n",
    ")"
   ]
  },
  {
   "cell_type": "markdown",
   "metadata": {},
   "source": [
    "## Osmotic Coefficient and Actvity Coefficent Relationship"
   ]
  },
  {
   "cell_type": "code",
   "execution_count": null,
   "metadata": {},
   "outputs": [
    {
     "data": {
      "application/vnd.jupyter.widget-view+json": {
       "model_id": "414e60a6698e40419af48f248f2d62fe",
       "version_major": 2,
       "version_minor": 0
      },
      "text/plain": [
       "interactive(children=(FloatSlider(value=1.1, description='ϕ (Osmotic Coeff)', max=2.2, min=0.8, step=0.01), Fl…"
      ]
     },
     "metadata": {},
     "output_type": "display_data"
    },
    {
     "data": {
      "text/plain": [
       "<function __main__.interactive_aw_plot(phi=1.1, molality=5.0)>"
      ]
     },
     "execution_count": 8,
     "metadata": {},
     "output_type": "execute_result"
    }
   ],
   "source": [
    "import numpy as np\n",
    "import matplotlib.pyplot as plt\n",
    "from ipywidgets import interact, FloatSlider\n",
    "import math\n",
    "\n",
    "# Constants\n",
    "M_w = 0.018015  # kg/mol (molecular weight of water)\n",
    "nu = 2        # van't Hoff factor for NaI → Na⁺ + I⁻\n",
    "\n",
    "# Compute water activity from osmotic coefficient and molality\n",
    "\n",
    "\n",
    "def water_activity(phi, molality):\n",
    "    ln_aw = - (phi * nu * molality * M_w)\n",
    "    return np.exp(ln_aw)\n",
    "\n",
    "# Interactive plot\n",
    "\n",
    "\n",
    "def interactive_aw_plot(phi=1.1, molality=5.0):\n",
    "    aw = water_activity(phi, molality)\n",
    "    print(f\"Osmotic Coefficient (ϕ): {phi:.2f}\")\n",
    "    print(f\"Molality (mol/kg H₂O): {molality:.2f}\")\n",
    "    print(f\"→ Water Activity (a_w): {aw:.5f}\")\n",
    "\n",
    "    # Simple visualization\n",
    "    molality_vals = np.linspace(0.1, 12, 200)\n",
    "    aw_vals = [water_activity(phi, m) for m in molality_vals]\n",
    "\n",
    "    plt.figure(figsize=(8, 5))\n",
    "    plt.plot(molality_vals, aw_vals, label=f'ϕ = {phi:.2f}')\n",
    "    plt.axvline(molality, color='green', linestyle='--',\n",
    "                label=f'Selected Molality = {molality:.2f}')\n",
    "    plt.axhline(aw, color='red', linestyle='--', label=f'a_w = {aw:.5f}')\n",
    "    plt.xlabel('Molality (mol/kg H₂O)')\n",
    "    plt.ylabel('Water Activity (a_w)')\n",
    "    plt.title('Water Activity vs. Molality (at fixed Osmotic Coefficient)')\n",
    "    plt.grid(True)\n",
    "    plt.legend()\n",
    "    plt.tight_layout()\n",
    "    plt.show()\n",
    "\n",
    "\n",
    "# Create interactive sliders\n",
    "interact(\n",
    "    interactive_aw_plot,\n",
    "    phi=FloatSlider(value=1.1, min=0.8, max=2.2, step=0.01,\n",
    "                    description='ϕ (Osmotic Coeff)'),\n",
    "    molality=FloatSlider(value=5.0, min=0.1, max=12.0,\n",
    "                         step=0.1, description='Molality (mol/kg)')\n",
    ")"
   ]
  },
  {
   "cell_type": "code",
   "execution_count": 15,
   "metadata": {},
   "outputs": [
    {
     "data": {
      "image/png": "[encoded data removed]",
      "text/plain": [
       "<Figure size 800x500 with 1 Axes>"
      ]
     },
     "metadata": {},
     "output_type": "display_data"
    }
   ],
   "source": [
    "import numpy as np\n",
    "import matplotlib.pyplot as plt\n",
    "import mplcursors  # <- for mouse tracking\n",
    "import math\n",
    "\n",
    "# Constants\n",
    "M_w = 0.018015  # kg/mol (molecular weight of water)\n",
    "R = 8.314  # J/(mol·K) (universal gas constant)\n",
    "N_a = 6.022e23  # molecules/mol (Avogadro's number)\n",
    "A_channel = 0.003175 * 0.0127  # m² (1/8\" x 1/2\")\n",
    "MMHG_TO_PA = 133.322  # 1 mmHg = 133.322 Pa\n",
    "density_water = 997  # kg/m³\n",
    "\n",
    "# Antoine coefficients for water (valid between 1-100°C)\n",
    "A = 8.07131\n",
    "B = 1730.63\n",
    "C = 233.426\n",
    "\n",
    "\n",
    "def vapor_pressure(T_celsius):\n",
    "    \"\"\"Returns vapor pressure in Pascals\"\"\"\n",
    "    return 10 ** (A - (B / (C + T_celsius))) * MMHG_TO_PA\n",
    "\n",
    "\n",
    "def rate_evap(t_cell, t_rt=20):\n",
    "    \"\"\"Returns evaporation rate in molecules per second\"\"\"\n",
    "    delta_p = vapor_pressure(t_cell) - vapor_pressure(t_rt)\n",
    "    return (delta_p * N_a * A_channel) / (math.sqrt(2 * math.pi * M_w * R * (t_cell + 273.15)))\n",
    "\n",
    "def time_evap(t_cell, t_rt=20, volume_mL=100):\n",
    "    volume_m3 = volume_mL * 1e-6\n",
    "    mass = volume_m3 * density_water  # in kg\n",
    "    moles = mass / M_w  # mol\n",
    "    molecules = moles * N_a\n",
    "    rate = rate_evap(t_cell, t_rt)  # molecules/sec\n",
    "    return (molecules / rate) / 60  # minutes\n",
    "\n",
    "\n",
    "# Plot\n",
    "plt.figure(figsize=(8, 5))\n",
    "t_cell_range = np.linspace(30, 100, 200)\n",
    "evap_times = [time_evap(t) for t in t_cell_range]\n",
    "line, = plt.plot(t_cell_range, evap_times, label='Evaporation Time')\n",
    "\n",
    "plt.xlabel('Cell Temperature (°C)')\n",
    "plt.ylabel('Evaporation Time (minutes)')\n",
    "plt.title('Evaporation Time vs. Cell Temperature')\n",
    "plt.grid(True)\n",
    "plt.tight_layout()\n",
    "plt.show()"
   ]
  },
  {
   "cell_type": "code",
   "execution_count": 18,
   "metadata": {},
   "outputs": [
    {
     "data": {
      "text/plain": [
       "0.12144688555294282"
      ]
     },
     "execution_count": 18,
     "metadata": {},
     "output_type": "execute_result"
    }
   ],
   "source": [
    "vapor_pressure(50)/101325"
   ]
  },
  {
   "cell_type": "code",
   "execution_count": null,
   "metadata": {},
   "outputs": [],
   "source": []
  }
 ],
 "metadata": {
  "kernelspec": {
   "display_name": "Python 3",
   "language": "python",
   "name": "python3"
  },
  "language_info": {
   "codemirror_mode": {
    "name": "ipython",
    "version": 3
   },
   "file_extension": ".py",
   "mimetype": "text/x-python",
   "name": "python",
   "nbconvert_exporter": "python",
   "pygments_lexer": "ipython3",
   "version": "3.9.6"
  }
 },
 "nbformat": 4,
 "nbformat_minor": 2
}
