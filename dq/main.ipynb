{
 "cells": [
  {
   "cell_type": "markdown",
   "metadata": {},
   "source": [
    "# Determination of Deliquescence"
   ]
  },
  {
   "cell_type": "markdown",
   "metadata": {},
   "source": [
    "## Initialize Libraries"
   ]
  },
  {
   "cell_type": "code",
   "execution_count": null,
   "metadata": {},
   "outputs": [],
   "source": [
    "%matplotlib inline\n",
    "%pip install ipywidgets numpy matplotlib"
   ]
  },
  {
   "cell_type": "markdown",
   "metadata": {},
   "source": [
    "## Temperature, Vapor Pressure, and Activity Coefficient Relationship"
   ]
  },
  {
   "cell_type": "code",
   "execution_count": null,
   "metadata": {},
   "outputs": [
    {
     "data": {
      "application/vnd.jupyter.widget-view+json": {
       "model_id": "2c4a596a43ea478f91512ea48322a712",
       "version_major": 2,
       "version_minor": 0
      },
      "text/plain": [
       "interactive(children=(FloatSlider(value=90.0, description='Fixture Temp (°C)', min=30.0, step=1.0), FloatSlide…"
      ]
     },
     "metadata": {},
     "output_type": "display_data"
    },
    {
     "data": {
      "text/plain": [
       "<function __main__.interactive_plot(T_fixture=90.0, a_w=0.25)>"
      ]
     },
     "execution_count": 7,
     "metadata": {},
     "output_type": "execute_result"
    }
   ],
   "source": [
    "import numpy as np\n",
    "import matplotlib.pyplot as plt\n",
    "from ipywidgets import interact, FloatSlider\n",
    "\n",
    "# Antoine constants for water (valid 1–100 °C)\n",
    "A = 8.07131\n",
    "B = 1730.63\n",
    "C = 233.426\n",
    "\n",
    "# Calculate saturation vapor pressure of water at temperature T (°C) in mmHg\n",
    "\n",
    "\n",
    "def vapor_pressure(T_celsius):\n",
    "    return 10 ** (A - (B / (C + T_celsius)))\n",
    "\n",
    "# Compute minimum bubbler temperature given fixture temperature and water activity\n",
    "\n",
    "\n",
    "def compute_bubbler_temp(T_fixture, a_w):\n",
    "    P_required = a_w * vapor_pressure(T_fixture)\n",
    "    # Search for temperature where vapor pressure >= required\n",
    "    for T_bubbler in np.linspace(0, 100, 1000):\n",
    "        if vapor_pressure(T_bubbler) >= P_required:\n",
    "            return T_bubbler\n",
    "    return np.nan\n",
    "\n",
    "# Main interactive plot function\n",
    "\n",
    "\n",
    "def interactive_plot(T_fixture=90.0, a_w=0.25):\n",
    "    T_bubbler = compute_bubbler_temp(T_fixture, a_w)\n",
    "    print(f\"Fixture Temperature: {T_fixture:.1f} °C\")\n",
    "    print(f\"Water Activity (a_w): {a_w:.2f}\")\n",
    "    print(f\"→ Minimum Bubbler Temperature: {T_bubbler:.2f} °C (at 100% RH)\")\n",
    "\n",
    "    # Plot vapor pressure curve and thresholds\n",
    "    T_range = np.linspace(0, 100, 500)\n",
    "    P_curve = vapor_pressure(T_range)\n",
    "    P_required = a_w * vapor_pressure(T_fixture)\n",
    "\n",
    "    plt.figure(figsize=(8, 5))\n",
    "    plt.plot(T_range, P_curve, label='Vapor Pressure of Water (mmHg)')\n",
    "    plt.axhline(P_required, color='red', linestyle='--',\n",
    "                label=f'Required Vapor Pressure = {P_required:.1f} mmHg')\n",
    "    plt.axvline(T_bubbler, color='green', linestyle='--',\n",
    "                label=f'Min Bubbler Temp = {T_bubbler:.1f} °C')\n",
    "    plt.xlabel('Temperature (°C)')\n",
    "    plt.ylabel('Saturation Vapor Pressure (mmHg)')\n",
    "    plt.title('Required vs. Actual Vapor Pressure for Deliquescence')\n",
    "    plt.grid(True)\n",
    "    plt.legend()\n",
    "    plt.tight_layout()\n",
    "    plt.show()\n",
    "\n",
    "\n",
    "# Create interactive sliders\n",
    "interact(\n",
    "    interactive_plot,\n",
    "    T_fixture=FloatSlider(value=90, min=30, max=100, step=1,\n",
    "                          description='Fixture Temp (°C)'),\n",
    "    a_w=FloatSlider(value=0.25, min=0.05, max=1,\n",
    "                    step=0.01, description='Water Activity')\n",
    ")"
   ]
  },
  {
   "cell_type": "markdown",
   "metadata": {},
   "source": [
    "## Osmotic Coefficient and Actvity Coefficent Relationship"
   ]
  },
  {
   "cell_type": "code",
   "execution_count": null,
   "metadata": {},
   "outputs": [
    {
     "data": {
      "application/vnd.jupyter.widget-view+json": {
       "model_id": "414e60a6698e40419af48f248f2d62fe",
       "version_major": 2,
       "version_minor": 0
      },
      "text/plain": [
       "interactive(children=(FloatSlider(value=1.1, description='ϕ (Osmotic Coeff)', max=2.2, min=0.8, step=0.01), Fl…"
      ]
     },
     "metadata": {},
     "output_type": "display_data"
    },
    {
     "data": {
      "text/plain": [
       "<function __main__.interactive_aw_plot(phi=1.1, molality=5.0)>"
      ]
     },
     "execution_count": 8,
     "metadata": {},
     "output_type": "execute_result"
    }
   ],
   "source": [
    "import numpy as np\n",
    "import matplotlib.pyplot as plt\n",
    "from ipywidgets import interact, FloatSlider\n",
    "import math\n",
    "\n",
    "# Constants\n",
    "M_w = 0.018015  # kg/mol (molecular weight of water)\n",
    "nu = 2        # van't Hoff factor for NaI → Na⁺ + I⁻\n",
    "\n",
    "# Compute water activity from osmotic coefficient and molality\n",
    "\n",
    "\n",
    "def water_activity(phi, molality):\n",
    "    ln_aw = - (phi * nu * molality * M_w)\n",
    "    return np.exp(ln_aw)\n",
    "\n",
    "# Interactive plot\n",
    "\n",
    "\n",
    "def interactive_aw_plot(phi=1.1, molality=5.0):\n",
    "    aw = water_activity(phi, molality)\n",
    "    print(f\"Osmotic Coefficient (ϕ): {phi:.2f}\")\n",
    "    print(f\"Molality (mol/kg H₂O): {molality:.2f}\")\n",
    "    print(f\"→ Water Activity (a_w): {aw:.5f}\")\n",
    "\n",
    "    # Simple visualization\n",
    "    molality_vals = np.linspace(0.1, 12, 200)\n",
    "    aw_vals = [water_activity(phi, m) for m in molality_vals]\n",
    "\n",
    "    plt.figure(figsize=(8, 5))\n",
    "    plt.plot(molality_vals, aw_vals, label=f'ϕ = {phi:.2f}')\n",
    "    plt.axvline(molality, color='green', linestyle='--',\n",
    "                label=f'Selected Molality = {molality:.2f}')\n",
    "    plt.axhline(aw, color='red', linestyle='--', label=f'a_w = {aw:.5f}')\n",
    "    plt.xlabel('Molality (mol/kg H₂O)')\n",
    "    plt.ylabel('Water Activity (a_w)')\n",
    "    plt.title('Water Activity vs. Molality (at fixed Osmotic Coefficient)')\n",
    "    plt.grid(True)\n",
    "    plt.legend()\n",
    "    plt.tight_layout()\n",
    "    plt.show()\n",
    "\n",
    "\n",
    "# Create interactive sliders\n",
    "interact(\n",
    "    interactive_aw_plot,\n",
    "    phi=FloatSlider(value=1.1, min=0.8, max=2.2, step=0.01,\n",
    "                    description='ϕ (Osmotic Coeff)'),\n",
    "    molality=FloatSlider(value=5.0, min=0.1, max=12.0,\n",
    "                         step=0.1, description='Molality (mol/kg)')\n",
    ")"
   ]
  }
 ],
 "metadata": {
  "kernelspec": {
   "display_name": "Python 3",
   "language": "python",
   "name": "python3"
  },
  "language_info": {
   "codemirror_mode": {
    "name": "ipython",
    "version": 3
   },
   "file_extension": ".py",
   "mimetype": "text/x-python",
   "name": "python",
   "nbconvert_exporter": "python",
   "pygments_lexer": "ipython3",
   "version": "3.9.6"
  }
 },
 "nbformat": 4,
 "nbformat_minor": 2
}
